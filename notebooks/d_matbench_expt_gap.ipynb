{
 "cells": [
  {
   "cell_type": "code",
   "execution_count": 1,
   "metadata": {},
   "outputs": [],
   "source": [
    "from tdc.single_pred import ADME\n",
    "import numpy as np\n",
    "import pandas as pd\n",
    "from matminer.datasets.dataset_retrieval import load_dataset\n",
    "from matminer.featurizers.conversions import StrToComposition\n",
    "from matminer.utils.io import store_dataframe_as_json\n",
    "from tqdm import tqdm\n",
    "from noiseestimator import NoiseEstimator"
   ]
  },
  {
   "cell_type": "code",
   "execution_count": 2,
   "metadata": {},
   "outputs": [
    {
     "data": {
      "text/plain": [
       "6354"
      ]
     },
     "execution_count": 2,
     "metadata": {},
     "output_type": "execute_result"
    }
   ],
   "source": [
    "df = load_dataset(\"expt_gap\")\n",
    "df = df.rename(columns={\"formula\": \"composition\"})\n",
    "len(df) # of not de-duplicated entries"
   ]
  },
  {
   "cell_type": "code",
   "execution_count": 3,
   "metadata": {},
   "outputs": [],
   "source": [
    "# print(df[df[\"composition\"] == \"ZrW2\"])  # should be 0.00\n",
    "# print(df[df[\"composition\"] == \"ZrSe2\"]) # should be 2.00"
   ]
  },
  {
   "cell_type": "code",
   "execution_count": 4,
   "metadata": {},
   "outputs": [
    {
     "data": {
      "application/vnd.jupyter.widget-view+json": {
       "model_id": "0fafcc5883bd4ca0a4c4a7b13d0155b6",
       "version_major": 2,
       "version_minor": 0
      },
      "text/plain": [
       "StrToComposition:   0%|          | 0/6354 [00:00<?, ?it/s]"
      ]
     },
     "metadata": {},
     "output_type": "display_data"
    },
    {
     "name": "stdout",
     "output_type": "stream",
     "text": [
      "Number of unique compositions: 4921\n"
     ]
    }
   ],
   "source": [
    "df = StrToComposition(target_col_id=\"composition_obj\").featurize_dataframe(\n",
    "    df, \"composition\"\n",
    ")\n",
    "df[\"composition\"] = [c.reduced_formula for c in df[\"composition_obj\"]]\n",
    "df = df.drop(columns=[\"composition_obj\"])\n",
    "\n",
    "unique = df[\"composition\"].unique()\n",
    "print(\"Number of unique compositions:\", len(unique))"
   ]
  },
  {
   "cell_type": "code",
   "execution_count": 5,
   "metadata": {},
   "outputs": [
    {
     "name": "stderr",
     "output_type": "stream",
     "text": [
      "  0%|          | 0/4921 [00:00<?, ?it/s]"
     ]
    },
    {
     "name": "stderr",
     "output_type": "stream",
     "text": [
      "100%|██████████| 4921/4921 [00:02<00:00, 1798.41it/s]"
     ]
    },
    {
     "name": "stdout",
     "output_type": "stream",
     "text": [
      "0.14115281907509952\n"
     ]
    },
    {
     "name": "stderr",
     "output_type": "stream",
     "text": [
      "\n"
     ]
    }
   ],
   "source": [
    "new_df_dict = {\"composition\": [], \"gap expt\": []}\n",
    "std_dv = 0\n",
    "n = 0\n",
    "import math \n",
    "\n",
    "for c in tqdm(unique):\n",
    "    df_per_comp_gaps = df[df[\"composition\"] == c]\n",
    "    per_comp_gaps = df_per_comp_gaps[\"gap expt\"].to_numpy()\n",
    "    if len(per_comp_gaps) > 1:\n",
    "    # get all pairs of gaps\n",
    "        for i in range(len(per_comp_gaps)):\n",
    "            for j in range(i + 1, len(per_comp_gaps)):\n",
    "                std_dv += (per_comp_gaps[i] - per_comp_gaps[j])**2\n",
    "                n += 1\n",
    "std_dv = math.sqrt(std_dv / (2 * (n - 1)))\n",
    "print(std_dv)"
   ]
  },
  {
   "cell_type": "code",
   "execution_count": 6,
   "metadata": {},
   "outputs": [],
   "source": [
    "from matbench.bench import MatbenchBenchmark"
   ]
  },
  {
   "cell_type": "code",
   "execution_count": 7,
   "metadata": {},
   "outputs": [
    {
     "name": "stdout",
     "output_type": "stream",
     "text": [
      "2024-04-17 18:09:25 INFO     Initialized benchmark 'matbench_v0.1' with 1 tasks: \n",
      "['matbench_expt_gap']\n",
      "2024-04-17 18:09:25 INFO     Loading dataset 'matbench_expt_gap'...\n",
      "2024-04-17 18:09:25 INFO     Dataset 'matbench_expt_gap loaded.\n"
     ]
    }
   ],
   "source": [
    "mb = MatbenchBenchmark(autoload=False, subset=['matbench_expt_gap'])\n",
    "for task in mb.tasks:\n",
    "    task.load()\n",
    "    df = task.df\n",
    "dataset = df['gap expt']"
   ]
  },
  {
   "cell_type": "code",
   "execution_count": 8,
   "metadata": {},
   "outputs": [
    {
     "name": "stdout",
     "output_type": "stream",
     "text": [
      "11.7\n"
     ]
    }
   ],
   "source": [
    "range = dataset.max() - dataset.min()\n",
    "print(range)"
   ]
  },
  {
   "cell_type": "code",
   "execution_count": 10,
   "metadata": {},
   "outputs": [],
   "source": [
    "dataset.to_csv('../data/processed/matbench_gap.csv', index=False)"
   ]
  },
  {
   "cell_type": "code",
   "execution_count": 8,
   "metadata": {},
   "outputs": [
    {
     "data": {
      "text/plain": [
       "<seaborn.axisgrid.FacetGrid at 0x7fc034c7c610>"
      ]
     },
     "execution_count": 8,
     "metadata": {},
     "output_type": "execute_result"
    },
    {
     "data": {
      "image/png": "[encoded data removed]",
      "text/plain": [
       "<Figure size 500x500 with 1 Axes>"
      ]
     },
     "metadata": {},
     "output_type": "display_data"
    }
   ],
   "source": [
    "NE = NoiseEstimator(dataset, 0.14)\n",
    "NE.plot()"
   ]
  },
  {
   "cell_type": "code",
   "execution_count": 9,
   "metadata": {},
   "outputs": [
    {
     "data": {
      "text/plain": [
       "<Axes: title={'center': 'mae for different noise levels'}, xlabel='Noise level', ylabel='mae'>"
      ]
     },
     "execution_count": 9,
     "metadata": {},
     "output_type": "execute_result"
    },
    {
     "data": {
      "image/png": "[encoded data removed]",
      "text/plain": [
       "<Figure size 640x480 with 1 Axes>"
      ]
     },
     "metadata": {},
     "output_type": "display_data"
    }
   ],
   "source": [
    "NE.plot_bootstrap(metric='mae')"
   ]
  },
  {
   "cell_type": "code",
   "execution_count": 10,
   "metadata": {},
   "outputs": [
    {
     "data": {
      "text/html": [
       "<div>\n",
       "<style scoped>\n",
       "    .dataframe tbody tr th:only-of-type {\n",
       "        vertical-align: middle;\n",
       "    }\n",
       "\n",
       "    .dataframe tbody tr th {\n",
       "        vertical-align: top;\n",
       "    }\n",
       "\n",
       "    .dataframe thead th {\n",
       "        text-align: right;\n",
       "    }\n",
       "</style>\n",
       "<table border=\"1\" class=\"dataframe\">\n",
       "  <thead>\n",
       "    <tr style=\"text-align: right;\">\n",
       "      <th></th>\n",
       "      <th>mae</th>\n",
       "      <th>mse</th>\n",
       "      <th>rmse</th>\n",
       "      <th>r2</th>\n",
       "      <th>pearsonr</th>\n",
       "    </tr>\n",
       "    <tr>\n",
       "      <th>noise</th>\n",
       "      <th></th>\n",
       "      <th></th>\n",
       "      <th></th>\n",
       "      <th></th>\n",
       "      <th></th>\n",
       "    </tr>\n",
       "  </thead>\n",
       "  <tbody>\n",
       "    <tr>\n",
       "      <th>noise_0.14</th>\n",
       "      <td>0.111706</td>\n",
       "      <td>0.019606</td>\n",
       "      <td>0.140014</td>\n",
       "      <td>0.990609</td>\n",
       "      <td>0.995339</td>\n",
       "    </tr>\n",
       "  </tbody>\n",
       "</table>\n",
       "</div>"
      ],
      "text/plain": [
       "                 mae       mse      rmse        r2  pearsonr\n",
       "noise                                                       \n",
       "noise_0.14  0.111706  0.019606  0.140014  0.990609  0.995339"
      ]
     },
     "execution_count": 10,
     "metadata": {},
     "output_type": "execute_result"
    }
   ],
   "source": [
    "NE.noise_bootstraps.groupby('noise').mean()"
   ]
  },
  {
   "cell_type": "code",
   "execution_count": 11,
   "metadata": {},
   "outputs": [
    {
     "data": {
      "text/plain": [
       "<Axes: title={'center': 'mae for different noise levels'}, xlabel='Noise level', ylabel='mae'>"
      ]
     },
     "execution_count": 11,
     "metadata": {},
     "output_type": "execute_result"
    },
    {
     "data": {
      "image/png": "[encoded data removed]",
      "text/plain": [
       "<Figure size 640x480 with 1 Axes>"
      ]
     },
     "metadata": {},
     "output_type": "display_data"
    }
   ],
   "source": [
    "NE = NoiseEstimator(dataset, 0.14, 0.14)\n",
    "NE.plot_bootstrap(metric='mae')"
   ]
  },
  {
   "cell_type": "code",
   "execution_count": 12,
   "metadata": {},
   "outputs": [
    {
     "data": {
      "text/html": [
       "<div>\n",
       "<style scoped>\n",
       "    .dataframe tbody tr th:only-of-type {\n",
       "        vertical-align: middle;\n",
       "    }\n",
       "\n",
       "    .dataframe tbody tr th {\n",
       "        vertical-align: top;\n",
       "    }\n",
       "\n",
       "    .dataframe thead th {\n",
       "        text-align: right;\n",
       "    }\n",
       "</style>\n",
       "<table border=\"1\" class=\"dataframe\">\n",
       "  <thead>\n",
       "    <tr style=\"text-align: right;\">\n",
       "      <th></th>\n",
       "      <th>mae</th>\n",
       "      <th>mse</th>\n",
       "      <th>rmse</th>\n",
       "      <th>r2</th>\n",
       "      <th>pearsonr</th>\n",
       "    </tr>\n",
       "    <tr>\n",
       "      <th>noise</th>\n",
       "      <th></th>\n",
       "      <th></th>\n",
       "      <th></th>\n",
       "      <th></th>\n",
       "      <th></th>\n",
       "    </tr>\n",
       "  </thead>\n",
       "  <tbody>\n",
       "    <tr>\n",
       "      <th>noise_0.14</th>\n",
       "      <td>0.158027</td>\n",
       "      <td>0.03923</td>\n",
       "      <td>0.198055</td>\n",
       "      <td>0.981382</td>\n",
       "      <td>0.990695</td>\n",
       "    </tr>\n",
       "  </tbody>\n",
       "</table>\n",
       "</div>"
      ],
      "text/plain": [
       "                 mae      mse      rmse        r2  pearsonr\n",
       "noise                                                      \n",
       "noise_0.14  0.158027  0.03923  0.198055  0.981382  0.990695"
      ]
     },
     "execution_count": 12,
     "metadata": {},
     "output_type": "execute_result"
    }
   ],
   "source": [
    "NE.noise_bootstraps.groupby('noise').mean()"
   ]
  },
  {
   "cell_type": "code",
   "execution_count": 13,
   "metadata": {},
   "outputs": [],
   "source": [
    "NE.noise_bootstraps.mae.to_csv('../data/interim/matbench_expt_gap_MAE.csv')"
   ]
  },
  {
   "cell_type": "code",
   "execution_count": null,
   "metadata": {},
   "outputs": [],
   "source": []
  }
 ],
 "metadata": {
  "kernelspec": {
   "display_name": "noise",
   "language": "python",
   "name": "python3"
  },
  "language_info": {
   "codemirror_mode": {
    "name": "ipython",
    "version": 3
   },
   "file_extension": ".py",
   "mimetype": "text/x-python",
   "name": "python",
   "nbconvert_exporter": "python",
   "pygments_lexer": "ipython3",
   "version": "3.11.8"
  }
 },
 "nbformat": 4,
 "nbformat_minor": 2
}
